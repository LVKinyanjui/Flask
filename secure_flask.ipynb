{
 "cells": [
  {
   "cell_type": "markdown",
   "metadata": {},
   "source": [
    "Security is extremely important when working with apps on the internet. Below we consider some ways of making our Flask applications more secure. We will be following along [IBM Labs](https://labs.cognitiveclass.ai/v2/tools/cloud-ide-kubernetes?ulid=ulid-adcd5106c64d2cc2f9811588d46d9c7a82f7b4df)."
   ]
  },
  {
   "cell_type": "markdown",
   "metadata": {},
   "source": [
    "## Talisman"
   ]
  },
  {
   "cell_type": "markdown",
   "metadata": {},
   "source": [
    "### Don't \n",
    "This application simply sends back a static HTML page called index.html from the root / URL.\n",
    "\n",
    "```python\n",
    "from flask import Flask\n",
    "\n",
    "app = Flask(__name__)\n",
    "\n",
    "@app.route('/', methods=['GET'])\n",
    "def index():\n",
    "    \"\"\"Base URL for our service\"\"\"\n",
    "    return app.send_static_file(\"index.html\")\n",
    "```\n",
    "\n",
    "### Do"
   ]
  },
  {
   "cell_type": "code",
   "execution_count": 1,
   "metadata": {},
   "outputs": [],
   "source": [
    "from flask import Flask\n",
    "from flask_talisman import Talisman\n",
    "\n",
    "app = Flask(__name__)\n",
    "# Create a content security policy and apply it\n",
    "csp = {\n",
    "    'default-src': '\\'self\\''\n",
    "}\n",
    "talisman = Talisman(app, content_security_policy=csp)\n",
    "\n",
    "@app.route('/', methods=['GET'])\n",
    "def index():\n",
    "    \"\"\"Base URL for our service\"\"\"\n",
    "    return app.send_static_file(\"index.html\")"
   ]
  },
  {
   "cell_type": "markdown",
   "metadata": {},
   "source": [
    "This version of the application uses `Flask-Talisman` to add security headers that reject loading content from other sites.\n",
    "\n",
    "If someone attempts a script injection attack that tries to load content from outside of the original Web site, it will be blocked by the security policy. Under this, you cannot have things like libraries, images, and fonts on your Web site that are loaded from other site.\n",
    "\n",
    "Talisman also ensures that your domain uses HTTPS instead of HTTP."
   ]
  },
  {
   "cell_type": "markdown",
   "metadata": {},
   "source": [
    "## Cross Origin Resource Sharing (CORS)\n",
    "Works by blocking all requests from origins that are not specifically allowed to have access to a given resource."
   ]
  },
  {
   "cell_type": "markdown",
   "metadata": {},
   "source": [
    "### Do"
   ]
  },
  {
   "cell_type": "code",
   "execution_count": null,
   "metadata": {},
   "outputs": [],
   "source": [
    "from flask_cors import CORS\n",
    "\n",
    "app = Flask(__name__)\n",
    "\n",
    "# Enable Cross Origin Resource Sourcing (CORS) policies\n",
    "CORS(app, resources={\"/*\": {\"origins\": \"http://localhost:3000\"}})"
   ]
  }
 ],
 "metadata": {
  "kernelspec": {
   "display_name": "flask",
   "language": "python",
   "name": "flask"
  },
  "language_info": {
   "codemirror_mode": {
    "name": "ipython",
    "version": 3
   },
   "file_extension": ".py",
   "mimetype": "text/x-python",
   "name": "python",
   "nbconvert_exporter": "python",
   "pygments_lexer": "ipython3",
   "version": "3.10.4"
  }
 },
 "nbformat": 4,
 "nbformat_minor": 2
}
